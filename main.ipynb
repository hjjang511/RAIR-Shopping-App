{
 "cells": [
  {
   "cell_type": "code",
   "execution_count": 1,
   "metadata": {},
   "outputs": [],
   "source": [
    "import pandas as pd\n",
    "import random\n",
    "from datetime import datetime\n",
    "from DATA225utils import make_connection"
   ]
  },
  {
   "cell_type": "markdown",
   "metadata": {},
   "source": [
    "### Config Rules"
   ]
  },
  {
   "cell_type": "code",
   "execution_count": 2,
   "metadata": {},
   "outputs": [],
   "source": [
    "# Edit these as desired\n",
    "LOCAL = True\n",
    "random.seed(42)\n",
    "min_orders = 1000\n",
    "max_orders = 3000\n",
    "max_items_per_order = 10\n",
    "max_qty_per_item = 5"
   ]
  },
  {
   "cell_type": "code",
   "execution_count": 3,
   "metadata": {},
   "outputs": [],
   "source": [
    "db_conf = 'local_db' if LOCAL else 'rairdata_db'\n",
    "wh_conf = 'local_wh' if LOCAL else 'rairdata_wh'"
   ]
  },
  {
   "cell_type": "markdown",
   "metadata": {},
   "source": [
    "### Generate Data"
   ]
  },
  {
   "cell_type": "code",
   "execution_count": 4,
   "metadata": {},
   "outputs": [],
   "source": [
    "\n",
    "# initial tables generated from mockaroo\n",
    "users = pd.read_csv(\"./data/users_mock.csv\")\n",
    "promos = pd.read_csv(\"./data/promo_codes_mock.csv\")\n",
    "# datasource: https://www.kaggle.com/datasets/PromptCloudHQ/flipkart-products\n",
    "\n",
    "\n",
    "products = pd.read_csv(\"./data/flipkart_com-ecommerce_sample.csv\")\n",
    "users[\"is_admin\"] = False\n",
    "\n",
    "users.loc[len(users)] = { 'id': len(users)+1, 'email': 'user@rair.com', 'password': '12345678',\n",
    "                        'name': 'RAIR Data User', 'street': '1234 Apple Street', 'city': 'San Jose',\n",
    "                        'state': 'California', 'zip': '94088', 'date_of_birth': '2000-01-01', 'gender': 'Male', 'is_admin': False }\n",
    "\n",
    "users.loc[len(users)] = { 'id': len(users)+1, 'email': 'admin@rair.com', 'password': '12345678',\n",
    "                        'name': 'RAIR Data Admin', 'street': '1235 Apple Street', 'city': 'San Jose',\n",
    "                        'state': 'California', 'zip': '94088', 'date_of_birth': '2000-01-01', 'gender': 'Male', 'is_admin': True }\n",
    "\n",
    "promos[\"id\"] = promos.index + 1\n",
    "promos = promos[[\"id\", \"code\", \"expired\", \"discount\"]]\n",
    "for x in promos[\"code\"].value_counts().index.to_list():\n",
    "    promo_x = promos.loc[promos[\"code\"] == x]\n",
    "    promos.loc[promo_x.index, \"expired\"] = 1\n",
    "    promos.loc[promo_x.index[-1], \"expired\"] = 0\n",
    "\n",
    "products = products[[\"product_name\",\"product_category_tree\", \"retail_price\", \"description\" ]]\n",
    "products[\"category\"] = products[\"product_category_tree\"].apply(lambda x: x.split(\">>\")[0].strip()[2:])\n",
    "products[\"stock\"] = products[\"product_name\"].apply(lambda x: random.randint(0,10*len(x)))\n",
    "products = products[[\"product_name\", \"retail_price\", \"description\", \"category\", \"stock\"]]\n",
    "products = products.drop_duplicates(subset=\"product_name\", keep=\"first\")\n",
    "products = products[products[\"product_name\"].apply(lambda x: x.isascii())]\n",
    "products = products[~products[\"product_name\"].str.lower().duplicated(keep=\"first\")]\n",
    "products = products.loc[products[\"product_name\"].str.len() < 120]\n",
    "\n",
    "categories = products.groupby('category').size().reset_index(name='count').sort_values(by='count', ascending=False)\n",
    "categories = categories[categories['count'] > 50][['category']].reset_index(drop=True)\n",
    "categories['id'] = categories.index + 1\n",
    "categories.columns = ['name', 'id']\n",
    "categories = categories[[\"id\", \"name\"]]\n",
    "products = (\n",
    "    products.set_index(\"category\")\n",
    "            .join(categories.set_index(\"name\"))\n",
    "            .reset_index()\n",
    "            .dropna()\n",
    "            .reset_index(drop=True)\n",
    "            [[\"product_name\", \"retail_price\", \"stock\", \"id\"]]\n",
    "            .rename(columns={\"product_name\": \"name\", \"retail_price\": \"price\", \"id\": \"category_id\"})\n",
    ")\n",
    "\n",
    "products[\"id\"] = products.index + 1\n",
    "products = products[[\"id\", \"name\", \"price\", \"stock\", \"category_id\"]]\n",
    "products[\"price\"] = products[\"price\"] * 0.02\n",
    "order_entries = random.randint(min_orders, max_orders)\n",
    "orders = pd.DataFrame([], columns=[\"id\", \"datetime\", \"total\", \"street\", \"city\", \"state\", \"zip\", \"user_id\", \"promo_code_id\"])\n",
    "order_items = pd.DataFrame([], columns=[\"id\", \"order_id\", \"product_id\", \"qty\"])\n",
    "orders_idx = 0\n",
    "order_items_idx = 0\n",
    "dt = datetime(1971,1,1)\n",
    "for j in range(order_entries):\n",
    "    orders_idx += 1\n",
    "    user_id = random.randint(1,len(users))\n",
    "    user = users.loc[users[\"id\"] == user_id].values[0]\n",
    "    total = 0\n",
    "    for i in range(random.randint(1,max_items_per_order)):\n",
    "        order_items_idx += 1\n",
    "        product_id = random.randint(1, len(products))\n",
    "        qty = random.randint(1,max_qty_per_item)\n",
    "        product = products.loc[products[\"id\"] == product_id]\n",
    "        price = product[\"price\"].values[0]\n",
    "        total += price * qty\n",
    "        order_items.loc[len(order_items)] = {\n",
    "            \"id\": order_items_idx,\n",
    "            \"order_id\": orders_idx,\n",
    "            \"product_id\": product_id,\n",
    "            \"qty\": qty\n",
    "        }\n",
    "    dt = dt.fromtimestamp(dt.timestamp() + random.randint(100,59999))\n",
    "    is_promo = True if random.randint(1,5) == 5 else False\n",
    "    promo = None\n",
    "    if is_promo:\n",
    "        promo_id = random.randint(1,len(promos))\n",
    "        promo = promos.loc[promos[\"id\"] == promo_id].values[0]\n",
    "        total = total - (total * (promo[3]/100))\n",
    "    orders.loc[len(orders)] = {\n",
    "        \"id\": orders_idx,\n",
    "        \"datetime\": dt.isoformat(),\n",
    "        \"total\": total,\n",
    "        \"street\": user[4],\n",
    "        \"city\": user[5],\n",
    "        \"state\": user[6],\n",
    "        \"zip\": user[7],\n",
    "        \"user_id\": user_id,\n",
    "        \"promo_code_id\": promo[0] if is_promo else None\n",
    "    }\n",
    "latest_datetime = pd.to_datetime(orders['datetime']).max()\n",
    "day_difference = (datetime.now() - latest_datetime).days - 1\n",
    "orders['datetime'] = pd.to_datetime(orders['datetime']) + pd.to_timedelta(day_difference, unit='D')\n",
    "\n",
    "\n",
    "users.set_index(\"id\").to_csv(\"./source/users.csv\")\n",
    "products.set_index(\"id\").to_csv(\"./source/products.csv\")\n",
    "categories.set_index(\"id\").to_csv(\"./source/categories.csv\")\n",
    "orders.set_index(\"id\").to_csv(\"./source/orders.csv\")\n",
    "order_items.set_index(\"id\").to_csv(\"./source/order_items.csv\")\n",
    "promos.set_index(\"id\").to_csv(\"./source/promos.csv\")\n"
   ]
  },
  {
   "cell_type": "markdown",
   "metadata": {},
   "source": [
    "### Re-uploading data to database"
   ]
  },
  {
   "cell_type": "code",
   "execution_count": 5,
   "metadata": {},
   "outputs": [],
   "source": [
    "categories = pd.read_csv(\"./source/categories.csv\")\n",
    "order_items = pd.read_csv(\"./source/order_items.csv\")\n",
    "orders = pd.read_csv(\"./source/orders.csv\")\n",
    "products = pd.read_csv(\"./source/products.csv\")\n",
    "promo_codes = pd.read_csv(\"./source/promos.csv\")\n",
    "users = pd.read_csv(\"./source/users.csv\")\n",
    "\n",
    "conn = make_connection('./rairdata.ini', db_conf)\n",
    "cursor = conn.cursor()\n",
    "\n",
    "cursor.execute(\"drop table if exists order_items\")\n",
    "cursor.execute(\"drop table if exists products\")\n",
    "cursor.execute(\"drop table if exists categories\")\n",
    "cursor.execute(\"drop table if exists orders\")\n",
    "cursor.execute(\"drop table if exists users\")\n",
    "cursor.execute(\"drop table if exists promo_codes\")"
   ]
  },
  {
   "cell_type": "code",
   "execution_count": 6,
   "metadata": {},
   "outputs": [],
   "source": [
    "cursor.execute(\"\"\"\n",
    "create table users\n",
    "  (\n",
    "     id            int not null auto_increment,\n",
    "     email         varchar(120) not null unique,\n",
    "     password      varchar(120) not null,\n",
    "     name          varchar(120) not null,\n",
    "     street        varchar(120) not null,\n",
    "     city          varchar(120) not null,\n",
    "     state         varchar(120) not null,\n",
    "     zip           varchar(5) not null,\n",
    "     date_of_birth datetime not null,\n",
    "     gender        varchar(20) not null,\n",
    "     is_admin      boolean not null default false,\n",
    "     primary key (id)\n",
    "  ); \n",
    "\"\"\")"
   ]
  },
  {
   "cell_type": "code",
   "execution_count": 7,
   "metadata": {},
   "outputs": [],
   "source": [
    "cursor.execute(\"\"\"\n",
    "create table categories\n",
    "  (\n",
    "     id   int not null auto_increment,\n",
    "     name varchar(120) not null,\n",
    "     primary key (id)\n",
    "  ); \n",
    "\"\"\")"
   ]
  },
  {
   "cell_type": "code",
   "execution_count": 8,
   "metadata": {},
   "outputs": [],
   "source": [
    "cursor.execute(\"\"\"\n",
    "create table promo_codes\n",
    "  (\n",
    "     id       int not null auto_increment,\n",
    "     code     varchar(120) not null,\n",
    "     expired  boolean not null,\n",
    "     discount float not null,\n",
    "     primary key (id)\n",
    "  ); \n",
    "\"\"\")"
   ]
  },
  {
   "cell_type": "code",
   "execution_count": 9,
   "metadata": {},
   "outputs": [],
   "source": [
    "cursor.execute(\"\"\"\n",
    "create table products\n",
    "  (\n",
    "     id          int not null auto_increment,\n",
    "     name        varchar(120) not null unique,\n",
    "     price       float not null,\n",
    "     stock       int not null,\n",
    "     category_id int not null,\n",
    "     primary key (id),\n",
    "     foreign key (category_id) references categories(id)\n",
    "  ); \n",
    "\"\"\")"
   ]
  },
  {
   "cell_type": "code",
   "execution_count": 10,
   "metadata": {},
   "outputs": [],
   "source": [
    "cursor.execute(\"\"\"\n",
    "create table orders\n",
    "  (\n",
    "     id            int not null auto_increment,\n",
    "     datetime      datetime not null,\n",
    "     total         float not null,\n",
    "     street        varchar(120) not null,\n",
    "     city          varchar(120) not null,\n",
    "     state         varchar(120) not null,\n",
    "     zip           varchar(5) not null,\n",
    "     user_id       int not null,\n",
    "     promo_code_id int,\n",
    "     primary key (id),\n",
    "     foreign key (user_id) references users(id),\n",
    "     foreign key (promo_code_id) references promo_codes(id)\n",
    "  );\n",
    "\"\"\")"
   ]
  },
  {
   "cell_type": "code",
   "execution_count": 11,
   "metadata": {},
   "outputs": [],
   "source": [
    "cursor.execute(\"\"\"\n",
    "create table order_items\n",
    "  (\n",
    "     id         int not null auto_increment,\n",
    "     qty        int not null,\n",
    "     order_id   int not null,\n",
    "     product_id int not null,\n",
    "     primary key (id),\n",
    "     foreign key (order_id) references orders(id),\n",
    "     foreign key (product_id) references products(id)\n",
    "  ); \n",
    "\"\"\")"
   ]
  },
  {
   "cell_type": "code",
   "execution_count": 12,
   "metadata": {},
   "outputs": [],
   "source": [
    "def insert_dataframe_to_mysql(dataframe, table_name):\n",
    "    columns = ', '.join(dataframe.columns)\n",
    "    placeholders = ', '.join(['%s' for _ in range(len(dataframe.columns))])\n",
    "    sql = f\"insert into {table_name} ({columns}) values ({placeholders})\"\n",
    "    values = [tuple(row) for _, row in dataframe.iterrows()]\n",
    "    cursor.executemany(sql, values)\n",
    "    conn.commit()\n",
    "\n",
    "\n",
    "insert_dataframe_to_mysql(categories, \"categories\")\n",
    "insert_dataframe_to_mysql(products, \"products\")\n",
    "insert_dataframe_to_mysql(promo_codes, \"promo_codes\")\n",
    "insert_dataframe_to_mysql(users, \"users\")\n",
    "insert_dataframe_to_mysql(orders, \"orders\")\n",
    "insert_dataframe_to_mysql(order_items, \"order_items\")\n",
    "\n",
    "cursor.close()\n",
    "conn.close()"
   ]
  },
  {
   "cell_type": "markdown",
   "metadata": {},
   "source": [
    "### Making database stored procedures"
   ]
  },
  {
   "cell_type": "code",
   "execution_count": 13,
   "metadata": {},
   "outputs": [],
   "source": [
    "conn = make_connection('./rairdata.ini', db_conf)\n",
    "cursor = conn.cursor()"
   ]
  },
  {
   "cell_type": "markdown",
   "metadata": {},
   "source": [
    "#### CheckLoginCredentials"
   ]
  },
  {
   "cell_type": "code",
   "execution_count": 14,
   "metadata": {},
   "outputs": [],
   "source": [
    "cursor.execute('drop procedure if exists CheckLoginCredentials')\n",
    "cursor.execute(\"\"\"\n",
    "CREATE PROCEDURE CheckLoginCredentials(\n",
    "    IN inputUsername VARCHAR(255),\n",
    "    IN inputPassword VARCHAR(255)\n",
    ")\n",
    "BEGIN\n",
    "    select id, email, name, street, city, state, zip, date_of_birth, gender, is_admin\n",
    "    from users\n",
    "    where email = inputUsername and password = inputPassword;\n",
    "END;\n",
    "\"\"\")"
   ]
  },
  {
   "cell_type": "markdown",
   "metadata": {},
   "source": [
    "#### NewUserRecord"
   ]
  },
  {
   "cell_type": "code",
   "execution_count": 15,
   "metadata": {},
   "outputs": [],
   "source": [
    "cursor.execute('DROP PROCEDURE IF EXISTS NewUserRecord')\n",
    "cursor.execute(\"\"\"\n",
    "CREATE PROCEDURE NewUserRecord(\n",
    "    IN new_email VARCHAR(120),\n",
    "    IN new_password VARCHAR(120),\n",
    "    IN new_name VARCHAR(120),\n",
    "    IN new_street VARCHAR(120),\n",
    "    IN new_city VARCHAR(120),\n",
    "    IN new_state VARCHAR(120),\n",
    "    IN new_zip VARCHAR(5),\n",
    "    IN new_date_of_birth DATETIME,\n",
    "    IN new_gender VARCHAR(20),\n",
    "    OUT new_insertion_Result BOOLEAN,\n",
    "    OUT newID INT\n",
    ")\n",
    "BEGIN\n",
    "    DECLARE userCountNew INT;\n",
    "\n",
    "    SELECT COUNT(*) INTO userCountNew\n",
    "    FROM users\n",
    "    WHERE email = new_email;\n",
    "\n",
    "    IF userCountNew > 0 THEN\n",
    "        SET new_insertion_Result = FALSE;\n",
    "    ELSE\n",
    "        insert into users ( email, password, name, street, city, state, zip, date_of_birth, gender) \n",
    "        values ( new_email, new_password, new_name, new_street, new_city, new_state, new_zip, new_date_of_birth, new_gender);\n",
    "\n",
    "        select id into newID\n",
    "        from users\n",
    "        where email = new_email;\n",
    "        SET new_insertion_Result = TRUE;\n",
    "    END IF;\n",
    "END;\n",
    "\"\"\")"
   ]
  },
  {
   "cell_type": "markdown",
   "metadata": {},
   "source": [
    "#### get_categories"
   ]
  },
  {
   "cell_type": "code",
   "execution_count": 16,
   "metadata": {},
   "outputs": [],
   "source": [
    "cursor.execute('DROP PROCEDURE IF EXISTS get_categories')\n",
    "cursor.execute(\"\"\"\n",
    "create procedure get_categories()\n",
    "begin\n",
    "    select * from categories;\n",
    "end\n",
    "\"\"\")"
   ]
  },
  {
   "cell_type": "markdown",
   "metadata": {},
   "source": [
    "#### get_products"
   ]
  },
  {
   "cell_type": "code",
   "execution_count": 17,
   "metadata": {},
   "outputs": [],
   "source": [
    "cursor.execute('DROP PROCEDURE IF EXISTS get_products')\n",
    "cursor.execute(\"\"\"\n",
    "CREATE PROCEDURE get_products(\n",
    "    IN page INT,\n",
    "    IN num INT,\n",
    "    IN inputCategoryID INT,\n",
    "    OUT Total_products INT\n",
    ")\n",
    "BEGIN\n",
    "    DECLARE offset_value INT;\n",
    "\n",
    "    SET offset_value = page * num;\n",
    "\n",
    "    SELECT COUNT(*) INTO Total_products\n",
    "    FROM products\n",
    "    WHERE inputCategoryID = 0 OR category_id = inputCategoryID;\n",
    "\n",
    "    SELECT id, name, price, stock\n",
    "    FROM products\n",
    "    WHERE inputCategoryID = 0 OR category_id = inputCategoryID\n",
    "    LIMIT num OFFSET offset_value;\n",
    "END;\n",
    "\"\"\")"
   ]
  },
  {
   "cell_type": "markdown",
   "metadata": {},
   "source": [
    "#### product_search"
   ]
  },
  {
   "cell_type": "code",
   "execution_count": 18,
   "metadata": {},
   "outputs": [],
   "source": [
    "cursor.execute('DROP PROCEDURE IF EXISTS product_search')\n",
    "cursor.execute(\"\"\"\n",
    "CREATE PROCEDURE product_search(\n",
    "    IN page INT,\n",
    "    IN num INT,\n",
    "    IN inputCategoryID INT,\n",
    "    IN search_term VARCHAR(120),\n",
    "    OUT Total_products INT\n",
    ")\n",
    "BEGIN\n",
    "    DECLARE offset_value INT;\n",
    "\n",
    "    SET offset_value = page * num;\n",
    "\n",
    "    SELECT COUNT(*) INTO Total_products\n",
    "    FROM products\n",
    "    WHERE (inputCategoryID = 0 OR category_id = inputCategoryID)\n",
    "        AND name LIKE CONCAT('%', search_term, '%');\n",
    "\n",
    "\n",
    "    SELECT id, name, price, stock\n",
    "    FROM products\n",
    "    WHERE (inputCategoryID = 0 OR category_id = inputCategoryID)\n",
    "        AND name LIKE CONCAT('%', search_term, '%')\n",
    "    LIMIT num OFFSET offset_value;\n",
    "END;\n",
    "\"\"\")"
   ]
  },
  {
   "cell_type": "markdown",
   "metadata": {},
   "source": [
    "#### order_history"
   ]
  },
  {
   "cell_type": "code",
   "execution_count": 19,
   "metadata": {},
   "outputs": [],
   "source": [
    "cursor.execute(\"DROP PROCEDURE IF EXISTS order_history\")\n",
    "cursor.execute(\"\"\"\n",
    "CREATE PROCEDURE order_history(\n",
    "    IN input_user_id INT,\n",
    "    IN page INT,\n",
    "    IN num INT, \n",
    "    OUT total_orders INT\n",
    ")\n",
    "BEGIN\n",
    "    DECLARE offset_value INT;\n",
    "    SET offset_value = page * num;\n",
    "    \n",
    "    SELECT COUNT(*) INTO total_orders\n",
    "    FROM orders\n",
    "    WHERE user_id = input_user_id;\n",
    "\n",
    "    SELECT id, datetime, total, street, city, state, zip, user_id\n",
    "    FROM orders\n",
    "    WHERE user_id = input_user_id\n",
    "    LIMIT num OFFSET offset_value;\n",
    "END\n",
    "\"\"\")"
   ]
  },
  {
   "cell_type": "markdown",
   "metadata": {},
   "source": [
    "#### order_details"
   ]
  },
  {
   "cell_type": "code",
   "execution_count": 20,
   "metadata": {},
   "outputs": [],
   "source": [
    "cursor.execute(\"DROP PROCEDURE IF EXISTS order_details\")\n",
    "cursor.execute(\"\"\"\n",
    "CREATE PROCEDURE order_details(in input_order_id INT)\n",
    "BEGIN\n",
    "    SELECT order_items.qty, order_items.product_id, products.name, products.price, promo_codes.code\n",
    "    FROM order_items\n",
    "    JOIN products ON products.id = order_items.product_id\n",
    "    LEFT JOIN orders ON orders.id = order_items.order_id\n",
    "    LEFT JOIN promo_codes ON orders.promo_code_id = promo_codes.id\n",
    "    WHERE order_items.order_id = input_order_id;\n",
    "END;\n",
    "\"\"\")"
   ]
  },
  {
   "cell_type": "markdown",
   "metadata": {},
   "source": [
    "#### place_order"
   ]
  },
  {
   "cell_type": "code",
   "execution_count": 21,
   "metadata": {},
   "outputs": [],
   "source": [
    "cursor.execute(\"DROP PROCEDURE IF EXISTS place_order\")\n",
    "cursor.execute(\"\"\"\n",
    "CREATE PROCEDURE place_order(\n",
    "    IN input_total FLOAT,\n",
    "    IN input_street VARCHAR(120),\n",
    "    IN input_city VARCHAR(120),\n",
    "    IN input_state VARCHAR(120),\n",
    "    IN input_zip VARCHAR(5),\n",
    "    IN input_user_id INT,\n",
    "    IN input_promo_code_id INT,\n",
    "    OUT new_order_id INT\n",
    ")\n",
    "BEGIN\n",
    "    INSERT INTO orders (datetime, total, street, city, state, zip, user_id, promo_code_id)\n",
    "    VALUES (NOW(), input_total, input_street, input_city, input_state, input_zip, input_user_id, input_promo_code_id);\n",
    "\n",
    "    SET new_order_id = LAST_INSERT_ID();\n",
    "    SELECT new_order_id AS new_order_id;\n",
    "END;\n",
    "\"\"\")"
   ]
  },
  {
   "cell_type": "markdown",
   "metadata": {},
   "source": [
    "#### add_order_item"
   ]
  },
  {
   "cell_type": "code",
   "execution_count": 22,
   "metadata": {},
   "outputs": [],
   "source": [
    "cursor.execute(\"DROP PROCEDURE IF EXISTS add_order_item\")\n",
    "cursor.execute(\"\"\"\n",
    "CREATE PROCEDURE `add_order_item`(\n",
    "    IN input_qty INT,\n",
    "    IN input_order_id INT, \n",
    "    IN input_product_id INT\n",
    ")\n",
    "BEGIN\n",
    "    INSERT INTO order_items(qty, order_id, product_id)\n",
    "    VALUES (input_qty, input_order_id, input_product_id);\n",
    "END\n",
    "\"\"\")"
   ]
  },
  {
   "cell_type": "markdown",
   "metadata": {},
   "source": [
    "#### check_promo_validity"
   ]
  },
  {
   "cell_type": "code",
   "execution_count": 23,
   "metadata": {},
   "outputs": [],
   "source": [
    "cursor.execute(\"DROP PROCEDURE IF EXISTS check_promo_validity\")\n",
    "cursor.execute(\"\"\"\n",
    "CREATE PROCEDURE check_promo_validity(IN input_code varchar(120))\n",
    "BEGIN\n",
    "    SELECT *\n",
    "    FROM promo_codes\n",
    "    WHERE code= input_code and expired = 0;\n",
    "END;\n",
    "\"\"\")"
   ]
  },
  {
   "cell_type": "markdown",
   "metadata": {},
   "source": [
    "#### decrease_stock"
   ]
  },
  {
   "cell_type": "code",
   "execution_count": 24,
   "metadata": {},
   "outputs": [],
   "source": [
    "cursor.execute(\"DROP PROCEDURE if exists decrease_stock\")\n",
    "cursor.execute(\"\"\"\n",
    "CREATE PROCEDURE `decrease_stock`(\n",
    "    IN input_product_id INT,\n",
    "    IN input_qty INT\n",
    ")\n",
    "BEGIN\n",
    "    DECLARE current_qty INT;\n",
    "\n",
    "    SELECT stock INTO current_qty\n",
    "    FROM products\n",
    "    WHERE id = input_product_id\n",
    "    LIMIT 1;\n",
    "\n",
    "    IF current_qty IS NOT NULL THEN\n",
    "        UPDATE products\n",
    "        SET stock = current_qty - input_qty\n",
    "        WHERE id = input_product_id;\n",
    "\n",
    "    --        SELECT CONCAT('Quantity decreased successfully. New quantity: ', current_qty - input_qty) AS result;\n",
    "    --    ELSE\n",
    "    --        SELECT 'Product not found in products table.' AS result;\n",
    "    END IF;\n",
    "END\n",
    "\"\"\")"
   ]
  },
  {
   "cell_type": "markdown",
   "metadata": {},
   "source": [
    "#### change_address"
   ]
  },
  {
   "cell_type": "code",
   "execution_count": 25,
   "metadata": {},
   "outputs": [],
   "source": [
    "cursor.execute(\"drop procedure if exists change_address\")\n",
    "cursor.execute(\"\"\"\n",
    "create procedure change_address(\n",
    "    IN input_user_id INT,\n",
    "    IN input_street VARCHAR(120),\n",
    "    IN input_city VARCHAR(120),\n",
    "    IN input_state VARCHAR(120),\n",
    "    IN input_zip VARCHAR(5)\n",
    ") begin\n",
    "    update users set street = input_street, city = input_city, state = input_state, zip = input_zip where id = input_user_id;\n",
    "    SELECT id, email, name, street, city, state, zip, date_of_birth, gender, is_admin\n",
    "    from users where id = input_user_id;\n",
    "end\n",
    "\"\"\")"
   ]
  },
  {
   "cell_type": "markdown",
   "metadata": {},
   "source": [
    "#### get_customer_by_email"
   ]
  },
  {
   "cell_type": "code",
   "execution_count": 26,
   "metadata": {},
   "outputs": [],
   "source": [
    "cursor.execute(\"drop procedure if exists get_customer_by_email\")\n",
    "cursor.execute(\"\"\"\n",
    "create procedure get_customer_by_email(\n",
    "    IN input_email VARCHAR(120)\n",
    ")\n",
    "begin\n",
    "    SELECT id, email, name, street, city, state, zip, date_of_birth, gender, is_admin\n",
    "    from users where email = input_email;\n",
    "end\n",
    "\"\"\")"
   ]
  },
  {
   "cell_type": "markdown",
   "metadata": {},
   "source": [
    "#### edit_customer_by_id"
   ]
  },
  {
   "cell_type": "code",
   "execution_count": 27,
   "metadata": {},
   "outputs": [],
   "source": [
    "cursor.execute(\"drop procedure if exists edit_customer_by_id\")\n",
    "cursor.execute(\"\"\"\n",
    "create procedure edit_customer_by_id(\n",
    "    IN input_id INT,\n",
    "    IN input_name VARCHAR(120),\n",
    "    IN input_street VARCHAR(120),\n",
    "    IN input_city VARCHAR(120),\n",
    "    IN input_state VARCHAR(120),\n",
    "    IN input_zip VARCHAR(5),\n",
    "    IN input_dob DATETIME,\n",
    "    in input_gender VARCHAR(20),\n",
    "    in input_admin BOOLEAN\n",
    ") begin\n",
    "    update users set \n",
    "    name = input_name,\n",
    "    street = input_street,\n",
    "    city = input_city,\n",
    "    state = input_state,\n",
    "    zip = input_zip,\n",
    "    date_of_birth = input_dob,\n",
    "    gender = input_gender,\n",
    "    is_admin = input_admin\n",
    "    where id = input_id;\n",
    "end\n",
    "\"\"\")"
   ]
  },
  {
   "cell_type": "markdown",
   "metadata": {},
   "source": [
    "#### get_promos"
   ]
  },
  {
   "cell_type": "code",
   "execution_count": 28,
   "metadata": {},
   "outputs": [],
   "source": [
    "cursor.execute('drop procedure if exists get_promos')\n",
    "cursor.execute(\"\"\"\n",
    "create procedure get_promos(\n",
    "    in page int,\n",
    "    in num int,\n",
    "    out total_promos int\n",
    ")\n",
    "begin\n",
    "    declare offset_value int;\n",
    "\n",
    "    set offset_value = page * num;\n",
    "\n",
    "    select count(*) into total_promos\n",
    "    from promo_codes\n",
    "    where expired = 0;\n",
    "\n",
    "    select *\n",
    "    from promo_codes\n",
    "    where expired = 0\n",
    "    limit num offset offset_value;\n",
    "end;\n",
    "\"\"\")"
   ]
  },
  {
   "cell_type": "markdown",
   "metadata": {},
   "source": [
    "#### expire_promo_by_id"
   ]
  },
  {
   "cell_type": "code",
   "execution_count": 29,
   "metadata": {},
   "outputs": [],
   "source": [
    "cursor.execute('drop procedure if exists expire_promo_by_id')\n",
    "cursor.execute(\"\"\"\n",
    "    create procedure expire_promo_by_id(\n",
    "        in input_id int\n",
    "    )\n",
    "    begin\n",
    "        update promo_codes set expired = 1 where id = input_id;\n",
    "    end;\n",
    "\"\"\")"
   ]
  },
  {
   "cell_type": "markdown",
   "metadata": {},
   "source": [
    "#### add_promo"
   ]
  },
  {
   "cell_type": "code",
   "execution_count": 30,
   "metadata": {},
   "outputs": [],
   "source": [
    "cursor.execute('drop procedure if exists add_promo')\n",
    "cursor.execute(\"\"\"\n",
    "create procedure add_promo(\n",
    "    in input_code varchar(120),\n",
    "    in input_discount float,\n",
    "    out created boolean\n",
    ")\n",
    "begin\n",
    "    select count(*) into @code_count from promo_codes where code = input_code and expired = 0;\n",
    "    if @code_count > 0 then\n",
    "        set created = false;\n",
    "    else\n",
    "        set created = true;\n",
    "        insert into promo_codes (code, expired, discount) values (input_code, 0, input_discount);\n",
    "    end if;\n",
    "end;\n",
    "\"\"\")"
   ]
  },
  {
   "cell_type": "markdown",
   "metadata": {},
   "source": [
    "#### edit_product_by_id"
   ]
  },
  {
   "cell_type": "code",
   "execution_count": 31,
   "metadata": {},
   "outputs": [],
   "source": [
    "cursor.execute('drop procedure if exists edit_product_by_id')\n",
    "cursor.execute(\"\"\"\n",
    "    create procedure edit_product_by_id(\n",
    "        in input_id int,\n",
    "        in input_price float,\n",
    "        in input_stock int\n",
    "    )\n",
    "    begin\n",
    "        update products set price = input_price, stock = input_stock where id = input_id;\n",
    "    end;  \n",
    "\"\"\")"
   ]
  },
  {
   "cell_type": "markdown",
   "metadata": {},
   "source": [
    "#### add_new_product"
   ]
  },
  {
   "cell_type": "code",
   "execution_count": 32,
   "metadata": {},
   "outputs": [],
   "source": [
    "cursor.execute('drop procedure if exists add_new_product')\n",
    "cursor.execute(\"\"\"\n",
    "    create procedure add_new_product(\n",
    "        in input_name varchar(120),\n",
    "        in input_price float,\n",
    "        in input_stock int,\n",
    "        in input_category_id int\n",
    "    )\n",
    "    begin\n",
    "        insert into products (name, price, stock, category_id) values (input_name, input_price, input_stock, input_category_id);\n",
    "    end;\n",
    "\"\"\")\n",
    "\n",
    "cursor.close()\n",
    "conn.close()"
   ]
  },
  {
   "cell_type": "markdown",
   "metadata": {},
   "source": [
    "### Re-uploading data to warehouse"
   ]
  },
  {
   "cell_type": "code",
   "execution_count": 33,
   "metadata": {},
   "outputs": [],
   "source": [
    "conn = make_connection('./rairdata.ini', wh_conf)\n",
    "cursor = conn.cursor()\n",
    "\n",
    "cursor.execute(\"drop table if exists fct_order_and_order_items\")\n",
    "cursor.execute(\"drop table if exists fct_promotions\")\n",
    "cursor.execute(\"drop table if exists dim_datetime\")\n",
    "cursor.execute(\"drop table if exists dim_customer_locations\")\n",
    "cursor.execute(\"drop table if exists dim_products\")\n",
    "cursor.execute(\"drop table if exists dim_customer_demographics\")"
   ]
  },
  {
   "cell_type": "code",
   "execution_count": 34,
   "metadata": {},
   "outputs": [],
   "source": [
    "cursor.execute( \"\"\"\n",
    "create table dim_datetime\n",
    "  (\n",
    "    datetime_key int not null auto_increment,\n",
    "    full_date datetime not null,\n",
    "    day_of_week varchar(10) not null,\n",
    "    day_of_month int not null,\n",
    "    quarter int not null,\n",
    "    year int not null,\n",
    "    month varchar(20) not null,\n",
    "    hour int not null,\n",
    "    minute int not null,\n",
    "    primary key (datetime_key)\n",
    "  );\n",
    "\"\"\")"
   ]
  },
  {
   "cell_type": "code",
   "execution_count": 35,
   "metadata": {},
   "outputs": [],
   "source": [
    "cursor.execute( \"\"\"\n",
    "create table dim_customer_locations\n",
    "  (\n",
    "    customer_location_key int not null auto_increment,\n",
    "    street varchar(120) not null,\n",
    "    city varchar(120) not null,\n",
    "    state varchar(120) not null,\n",
    "    zip varchar(5) not null,\n",
    "    primary key (customer_location_key)\n",
    "  );\n",
    "\"\"\")"
   ]
  },
  {
   "cell_type": "code",
   "execution_count": 36,
   "metadata": {},
   "outputs": [],
   "source": [
    "cursor.execute( \"\"\"\n",
    "create table dim_products\n",
    "  (\n",
    "    product_key int not null auto_increment,\n",
    "    name varchar(120) not null,\n",
    "    price float not null,\n",
    "    category varchar(120) not null,\n",
    "    primary key (product_key)\n",
    "  );\n",
    "\"\"\")"
   ]
  },
  {
   "cell_type": "code",
   "execution_count": 37,
   "metadata": {},
   "outputs": [],
   "source": [
    "cursor.execute(\"\"\"\n",
    "create table dim_customer_demographics\n",
    "  (\n",
    "    customer_demographic_key int not null auto_increment,\n",
    "    gender varchar(225) not null,\n",
    "    age_group varchar(30) not null,\n",
    "    primary key (customer_demographic_key)\n",
    "  );\n",
    "\"\"\")"
   ]
  },
  {
   "cell_type": "code",
   "execution_count": 38,
   "metadata": {},
   "outputs": [],
   "source": [
    "cursor.execute(\"\"\"\n",
    "create table fct_order_and_order_items\n",
    "  (\n",
    "    final_order_sale_amount float not null,\n",
    "    number_of_items_in_order int not null,\n",
    "    quantity_of_order_item int not null,\n",
    "    order_id int not null,\n",
    "    final_order_cost float not null,\n",
    "    datetime_key int not null,\n",
    "    product_key int not null,\n",
    "    customer_location_key int not null,\n",
    "    customer_demographic_key int not null,\n",
    "    foreign key (datetime_key) references dim_datetime(datetime_key),\n",
    "    foreign key (product_key) references dim_products(product_key),\n",
    "    foreign key (customer_location_key) references dim_customer_locations(customer_location_key),\n",
    "    foreign key (customer_demographic_key) references dim_customer_demographics(customer_demographic_key)\n",
    "  );\n",
    "\"\"\")"
   ]
  },
  {
   "cell_type": "code",
   "execution_count": 39,
   "metadata": {},
   "outputs": [],
   "source": [
    "cursor.execute(\"\"\"\n",
    "create table fct_promotions \n",
    "  (\n",
    "    datetime_key int ,\n",
    "    customer_demographic_key int,\n",
    "    dollar_discounted_amount decimal(10, 2),\n",
    "    promo_code_used varchar(50),\n",
    "    foreign key (datetime_key) references dim_datetime(datetime_key),\n",
    "    foreign key (customer_demographic_key) references dim_customer_demographics(customer_demographic_key)\n",
    "  );\n",
    "\"\"\")"
   ]
  },
  {
   "cell_type": "markdown",
   "metadata": {},
   "source": [
    "### Performing ETL with stored procedure"
   ]
  },
  {
   "cell_type": "code",
   "execution_count": 40,
   "metadata": {},
   "outputs": [],
   "source": [
    "cursor.execute(\"drop procedure if exists perform_etl\")\n",
    "cursor.execute(\"\"\"\n",
    "create procedure perform_etl()\n",
    "begin\n",
    "    set foreign_key_checks = 0;\n",
    "\n",
    "    truncate table dim_datetime;\n",
    "    truncate table dim_customer_locations;\n",
    "    truncate table dim_products;\n",
    "    truncate table dim_customer_demographics;\n",
    "    truncate table fct_order_and_order_items;\n",
    "    truncate table fct_promotions;\n",
    "\n",
    "    insert into dim_datetime (full_date, day_of_week, day_of_month, quarter, year, month, hour, minute)\n",
    "    select\n",
    "            datetime, \n",
    "            case dayofweek(datetime) \n",
    "            when 1 then 'Sunday' \n",
    "            when 2 then 'Monday' \n",
    "            when 3 then 'Tuesday' \n",
    "            when 4 then 'Wednesday' \n",
    "            when 5 then 'Thursday' \n",
    "            when 6 then 'Friday' \n",
    "            when 7 then 'Saturday' \n",
    "            end, \n",
    "            dayofmonth(datetime), quarter(datetime), year(datetime), monthname(datetime), hour(datetime), minute(datetime)\n",
    "    from rairdata_db.orders;\n",
    "\n",
    "    insert into dim_customer_locations (street, city, state, zip)\n",
    "    select street, city, state, zip\n",
    "    from rairdata_db.users;\n",
    "\n",
    "    insert into dim_products (name, price, category)\n",
    "    select p.name, p.price, c.name\n",
    "    from rairdata_db.products p\n",
    "    join rairdata_db.categories c\n",
    "    on p.category_id = c.id\n",
    "    order by p.id;\n",
    "\n",
    "    create temporary table temp_results\n",
    "    select distinct timestampdiff(year, date_of_birth, curdate()) as age\n",
    "    from rairdata_db.users;\n",
    "    \n",
    "    alter table temp_results add column age_group varchar(10);\n",
    "    \n",
    "    update temp_results set age_group = case \n",
    "        when age between 0 and 10 then '0 to 10'\n",
    "        when age between 11 and 20 then '11 to 20'\n",
    "        when age between 21 and 30 then '21 to 30'\n",
    "        when age between 31 and 40 then '31 to 40'\n",
    "        when age between 41 and 50 then '41 to 50'\n",
    "        when age between 51 and 60 then '51 to 60'\n",
    "        when age between 61 and 70 then '61 to 70'\n",
    "        when age between 71 and 80 then '71 to 80'\n",
    "        when age between 81 and 90 then '81 to 90'\n",
    "        when age between 91 and 100 then '91 to 100'\n",
    "        else '100+'\n",
    "    end;\n",
    "\n",
    "    insert into dim_customer_demographics (gender, age_group)\n",
    "    select distinct u.gender, t.age_group\n",
    "    from rairdata_db.users u\n",
    "    join temp_results t on t.age = TIMESTAMPDIFF(YEAR, u.date_of_birth, CURDATE())\n",
    "    order by t.age_group, gender;\n",
    "\n",
    "    insert into fct_order_and_order_items(final_order_sale_amount, number_of_items_in_order, quantity_of_order_item, order_id, final_order_cost,datetime_key, product_key, customer_location_key, customer_demographic_key)\n",
    "    select \n",
    "        o.total as final_order_sale_amount, \n",
    "        sum(oi.qty) over(partition by o.id) as number_of_items_in_order,\n",
    "        oi.qty as quantity_of_order_item, \n",
    "        o.id as order_id,\n",
    "        sum(p.price * oi.qty) over(partition by o.id) as final_order_cost,\n",
    "        dd.datetime_key,\n",
    "        dp.product_key,\n",
    "        dcl.customer_location_key,\n",
    "        dcd.customer_demographic_key\n",
    "    from rairdata_db.orders o \n",
    "    join rairdata_db.order_items oi on oi.order_id = o.id\n",
    "    join rairdata_db.products p on p.id = oi.product_id\n",
    "    join rairdata_db.users u on u.id = o.user_id\n",
    "    join dim_datetime dd on dd.full_date = o.datetime\n",
    "    join temp_results t on t.age = TIMESTAMPDIFF(YEAR, u.date_of_birth, CURDATE())\n",
    "    join dim_customer_demographics dcd on dcd.gender = u.gender and dcd.age_group = t.age_group\n",
    "    join dim_products dp on dp.name = p.name\n",
    "    join dim_customer_locations dcl on dcl.street = o.street and dcl.city = o.city and dcl.state = o.state and dcl.zip = o.zip;\n",
    "\n",
    "    insert into fct_promotions (datetime_key, customer_demographic_key, dollar_discounted_amount, promo_code_used)\n",
    "    select dd.datetime_key, dcd.customer_demographic_key, o.total * pc.discount / 100, pc.code\n",
    "    from rairdata_db.orders o\n",
    "    inner join rairdata_db.promo_codes pc on o.promo_code_id = pc.id\n",
    "    inner join rairdata_db.users u on o.user_id = u.id\n",
    "    inner join dim_datetime dd on o.datetime = dd.full_date\n",
    "    inner join temp_results t on t.age = TIMESTAMPDIFF(YEAR, u.date_of_birth, CURDATE())\n",
    "    inner join dim_customer_demographics dcd on t.age_group = dcd.age_group and u.gender = dcd.gender;\n",
    "\n",
    "    drop temporary table if exists temp_results;\n",
    "\n",
    "    set foreign_key_checks = 1;\n",
    "end\n",
    "\"\"\")"
   ]
  },
  {
   "cell_type": "code",
   "execution_count": 41,
   "metadata": {},
   "outputs": [],
   "source": [
    "cursor.callproc('perform_etl')\n",
    "conn.commit()\n",
    "cursor.close()\n",
    "conn.close()"
   ]
  }
 ],
 "metadata": {
  "kernelspec": {
   "display_name": "Python 3",
   "language": "python",
   "name": "python3"
  },
  "language_info": {
   "codemirror_mode": {
    "name": "ipython",
    "version": 3
   },
   "file_extension": ".py",
   "mimetype": "text/x-python",
   "name": "python",
   "nbconvert_exporter": "python",
   "pygments_lexer": "ipython3",
   "version": "3.11.5"
  }
 },
 "nbformat": 4,
 "nbformat_minor": 2
}
